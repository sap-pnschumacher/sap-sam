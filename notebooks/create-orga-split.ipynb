{
 "cells": [
  {
   "cell_type": "code",
   "execution_count": 7,
   "metadata": {},
   "outputs": [],
   "source": [
    "import logging, json\n",
    "logging.basicConfig(format=\"%(asctime)s %(levelname)s - %(message)s\", level=logging.INFO)\n",
    "\n",
    "import pandas as pd\n",
    "pd.set_option(\"display.min_rows\", 4)\n",
    "import numpy as np\n",
    "import seaborn as sns\n",
    "\n",
    "import matplotlib.pyplot as plt\n",
    "%matplotlib inline\n",
    "\n",
    "%reload_ext autoreload\n",
    "%autoreload 2\n",
    "\n",
    "from sapsam import parser, constants"
   ]
  },
  {
   "cell_type": "code",
   "execution_count": 4,
   "metadata": {},
   "outputs": [
    {
     "name": "stderr",
     "output_type": "stream",
     "text": [
      "2022-10-13 11:57:14,996 INFO - Found 103 csvs\n",
      "2022-10-13 11:57:14,997 INFO - Starting to parse 103 cvs excluding model json\n",
      "100%|██████████| 103/103 [02:56<00:00,  1.71s/it]\n",
      "2022-10-13 12:00:11,759 INFO - Parsed 1021471 models\n"
     ]
    }
   ],
   "source": [
    "df_meta = parser.parse_model_metadata()"
   ]
  },
  {
   "cell_type": "code",
   "execution_count": null,
   "metadata": {},
   "outputs": [],
   "source": [
    "df_meta.to_pickle(\"df_meta_pickle.pkl\")"
   ]
  },
  {
   "cell_type": "code",
   "execution_count": 13,
   "metadata": {},
   "outputs": [
    {
     "name": "stdout",
     "output_type": "stream",
     "text": [
      "c41660388a04449a995dccf97d894f46    33310\n",
      "5e1278d2bfce434b95e80ab3625cdc63    15030\n",
      "                                    ...  \n",
      "a89000460b074f3488c31b4c4f419ae4        1\n",
      "f824addab09a4ad0a2edd07f8e96ad22        1\n",
      "Name: organization_id, Length: 45536, dtype: int64\n"
     ]
    }
   ],
   "source": [
    "import random\n",
    "\n",
    "df_meta = pd.read_pickle(\"df_meta_pickle.pkl\")\n",
    "num_of_organizations = df_meta.organization_id.value_counts()\n",
    "num_of_organizations.to_csv('num_of_organizations.csv')\n",
    "print(num_of_organizations)\n",
    "\n",
    "organizations = df_meta.organization_id.unique()\n",
    "random.shuffle(organizations)\n",
    "\n",
    "n = len(organizations)\n",
    "n_val_test = round(n * 0.03)\n",
    "n_train = n - 2 * n_val_test\n",
    "split = [\"train\"] * n_train + [\"val\"] * n_val_test + [\"test\"] * n_val_test \n",
    "organizations_df = pd.Series(split, index=organizations, name=\"split\")\n",
    "df_orga = df_meta.join(organizations_df, on=\"organization_id\")[['organization_id', 'split']]\n",
    "df_orga.to_csv(\"../../pybpmn-parser/notebooks/organization_split.csv\")"
   ]
  }
 ],
 "metadata": {
  "kernelspec": {
   "display_name": "Python 3.8.13 ('sapsam')",
   "language": "python",
   "name": "python3"
  },
  "language_info": {
   "codemirror_mode": {
    "name": "ipython",
    "version": 3
   },
   "file_extension": ".py",
   "mimetype": "text/x-python",
   "name": "python",
   "nbconvert_exporter": "python",
   "pygments_lexer": "ipython3",
   "version": "3.8.13"
  },
  "orig_nbformat": 4,
  "vscode": {
   "interpreter": {
    "hash": "afd7396c042b6806ba4198c7e498128dc6b119edd4165dea0b47c94639db3a51"
   }
  }
 },
 "nbformat": 4,
 "nbformat_minor": 2
}
