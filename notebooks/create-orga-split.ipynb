{
 "cells": [
  {
   "cell_type": "code",
   "execution_count": 16,
   "metadata": {},
   "outputs": [],
   "source": [
    "import logging, random\n",
    "logging.basicConfig(format=\"%(asctime)s %(levelname)s - %(message)s\", level=logging.INFO)\n",
    "\n",
    "import pandas as pd\n",
    "pd.set_option(\"display.min_rows\", 4)\n",
    "\n",
    "%reload_ext autoreload\n",
    "%autoreload 2\n",
    "\n",
    "from sapsam import parser "
   ]
  },
  {
   "cell_type": "code",
   "execution_count": null,
   "metadata": {},
   "outputs": [],
   "source": [
    "df_meta = parser.parse_model_metadata()\n",
    "df_meta.to_pickle(\"df_meta_pickle.pkl\")"
   ]
  },
  {
   "cell_type": "code",
   "execution_count": 17,
   "metadata": {},
   "outputs": [],
   "source": [
    "df_meta = pd.read_pickle(\"df_meta_pickle.pkl\")\n",
    "organizations = df_meta.organization_id.unique()\n",
    "random.shuffle(organizations)\n",
    "\n",
    "n = len(organizations)\n",
    "n_val_test = round(n * 0.03)\n",
    "n_train = n - 2 * n_val_test\n",
    "split = [\"train\"] * n_train + [\"val\"] * n_val_test + [\"test\"] * n_val_test \n",
    "organizations_df = pd.Series(split, index=organizations, name=\"split\")\n",
    "df_orga = df_meta.join(organizations_df, on=\"organization_id\")[['organization_id', 'split']]\n",
    "df_orga.to_csv(\"../../pybpmn-parser/notebooks/organization_split.csv\")"
   ]
  }
 ],
 "metadata": {
  "kernelspec": {
   "display_name": "Python 3.8.13 ('sapsam')",
   "language": "python",
   "name": "python3"
  },
  "language_info": {
   "codemirror_mode": {
    "name": "ipython",
    "version": 3
   },
   "file_extension": ".py",
   "mimetype": "text/x-python",
   "name": "python",
   "nbconvert_exporter": "python",
   "pygments_lexer": "ipython3",
   "version": "3.8.13"
  },
  "orig_nbformat": 4,
  "vscode": {
   "interpreter": {
    "hash": "afd7396c042b6806ba4198c7e498128dc6b119edd4165dea0b47c94639db3a51"
   }
  }
 },
 "nbformat": 4,
 "nbformat_minor": 2
}
